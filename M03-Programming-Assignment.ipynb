{
 "cells": [
  {
   "cell_type": "code",
   "execution_count": 30,
   "id": "c55a5cae",
   "metadata": {},
   "outputs": [],
   "source": [
    "names = ['mozzarella', 'cinderella', 'salmonella']\n",
    "for i in range(len(names)):\n",
    "  for name in names:\n",
    "    if name == 'cinderella':\n",
    "        names[i] = name.capitalize()\n",
    "        i += 1\n",
    "    elif name == 'mozzarella':\n",
    "        names[i] = name.upper()\n",
    "        i += 1\n",
    "    elif name == 'salmonella':\n",
    "        names.remove(name)"
   ]
  },
  {
   "cell_type": "code",
   "execution_count": 31,
   "id": "f603c746",
   "metadata": {},
   "outputs": [],
   "source": [
    "def good():     \n",
    "    return ['Harry', 'Ron', 'Hermione']"
   ]
  },
  {
   "cell_type": "code",
   "execution_count": 32,
   "id": "e894ec20",
   "metadata": {},
   "outputs": [],
   "source": [
    "def get_odds():     \n",
    "    for num in range(10):         \n",
    "        if num % 2 != 0:            \n",
    "            yield num  \n",
    "            count = 0 \n",
    "            for value in get_odds():     \n",
    "                count += 1     \n",
    "                if count == 3:         \n",
    "                    print(value)         \n",
    "                    break"
   ]
  },
  {
   "cell_type": "code",
   "execution_count": null,
   "id": "8a84075e",
   "metadata": {},
   "outputs": [],
   "source": []
  }
 ],
 "metadata": {
  "kernelspec": {
   "display_name": "Python 3 (ipykernel)",
   "language": "python",
   "name": "python3"
  },
  "language_info": {
   "codemirror_mode": {
    "name": "ipython",
    "version": 3
   },
   "file_extension": ".py",
   "mimetype": "text/x-python",
   "name": "python",
   "nbconvert_exporter": "python",
   "pygments_lexer": "ipython3",
   "version": "3.11.5"
  }
 },
 "nbformat": 4,
 "nbformat_minor": 5
}
